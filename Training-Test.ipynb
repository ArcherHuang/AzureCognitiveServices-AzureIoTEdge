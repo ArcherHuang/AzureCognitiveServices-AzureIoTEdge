{
 "cells": [
  {
   "cell_type": "markdown",
   "metadata": {},
   "source": [
    "# 使用服務與工具\n",
    "* Jupyter\n",
    "* Python 3.6\n",
    "* Azure CLI\n",
    "* Azure VM\n",
    "* Azure Cognitive Services\n",
    "* Azure Custom Vision\n",
    "* Azure Container Registry\n",
    "* Azure IoT Hub\n",
    "* Raspberry Pi"
   ]
  },
  {
   "cell_type": "code",
   "execution_count": null,
   "metadata": {},
   "outputs": [],
   "source": [
    "# 1.1 安裝 custom vision 套件\n",
    "!pip install azure-cognitiveservices-vision-customvision"
   ]
  },
  {
   "cell_type": "code",
   "execution_count": null,
   "metadata": {},
   "outputs": [],
   "source": [
    "# 1.2 安裝 Azure CLI\n",
    "!pip install azure-cli"
   ]
  },
  {
   "cell_type": "code",
   "execution_count": null,
   "metadata": {},
   "outputs": [],
   "source": [
    "# 1.3 登入 Azure\n",
    "!az login"
   ]
  },
  {
   "cell_type": "code",
   "execution_count": null,
   "metadata": {},
   "outputs": [],
   "source": [
    "# 1.4 相關資訊設定\n",
    "# 設定資源群組所在位置\n",
    "resource_group_location=\"westus2\"\n",
    "\n",
    "# 設定資源群組名稱\n",
    "date=\"$(date -d '8hour' +'%Y%m%d')\"\n",
    "resource_group=\"CustomVision\"+date"
   ]
  },
  {
   "cell_type": "code",
   "execution_count": null,
   "metadata": {},
   "outputs": [],
   "source": [
    "# 1.5 新建資源群組\n",
    "!az group create -l $resource_group_location -n $resource_group"
   ]
  },
  {
   "cell_type": "code",
   "execution_count": null,
   "metadata": {},
   "outputs": [],
   "source": [
    "# 1.6 建立 cognitive services - Training\n",
    "trainingName = \"CustomVision-Training\"\n",
    "!az cognitiveservices account create --name $trainingName --resource-group $resource_group --kind CustomVision.Training --sku S0 --location $resource_group_location --yes"
   ]
  },
  {
   "cell_type": "code",
   "execution_count": null,
   "metadata": {},
   "outputs": [],
   "source": [
    "# 1.7 取得 Training key\n",
    "training_key = !az cognitiveservices account keys list --name $trainingName --resource-group $resource_group | grep -o '\"key1\": \"[^\"]*' | grep -o '[^\"]*$'\n",
    "!echo $training_key "
   ]
  },
  {
   "cell_type": "code",
   "execution_count": null,
   "metadata": {},
   "outputs": [],
   "source": [
    "# 1.8 取得 cognitive services endpoint\n",
    "endpoint = !az cognitiveservices account list --resource-group $resource_group | grep -o '\"endpoint\": \"[^\"]*' | grep -o '[^\"]*$'\n",
    "!echo $endpoint"
   ]
  },
  {
   "cell_type": "code",
   "execution_count": null,
   "metadata": {},
   "outputs": [],
   "source": [
    "# 1.9 建立專案\n",
    "from azure.cognitiveservices.vision.customvision.training import CustomVisionTrainingClient\n",
    "from azure.cognitiveservices.vision.customvision.training.models import ImageFileCreateEntry\n",
    "\n",
    "trainer = CustomVisionTrainingClient(training_key[0], endpoint= endpoint[0])\n",
    "for domain in trainer.get_domains():\n",
    "  print(domain.id, \"\\t\", domain.name) \n",
    "\n",
    "project = trainer.create_project(\"Lego\", domain_id = \"0732100f-1a38-4e49-a514-c9b44c697ab5\")"
   ]
  },
  {
   "cell_type": "code",
   "execution_count": null,
   "metadata": {},
   "outputs": [],
   "source": [
    "# 1.10 上傳 banana 影像到專案\n",
    "print (\"Adding banana images...\")\n",
    "banana_tag = trainer.create_tag(project.id, \"banana\")\n",
    "import os\n",
    "from multiprocessing.dummy import Pool as ThreadPool\n",
    "def upload(filepath):\n",
    "    with open(filepath, mode=\"rb\") as img_data:\n",
    "        trainer.create_images_from_data(project.id, img_data.read(), [ banana_tag.id ])\n",
    "    \n",
    "def upload_parallel(filepaths, threads=5):\n",
    "    pool = ThreadPool(threads)\n",
    "    results = pool.map(upload, filepaths)\n",
    "    pool.close()\n",
    "    pool.join()\n",
    "valid_dir = \"./Fruit/banana/\"\n",
    "valid_paths = [valid_dir + os.fsdecode(image) for image in os.listdir(os.fsencode(valid_dir))]\n",
    "img_paths = valid_paths\n",
    "upload_parallel(img_paths)\n",
    "print (\"Adding banana images Finish ...\")"
   ]
  },
  {
   "cell_type": "code",
   "execution_count": null,
   "metadata": {},
   "outputs": [],
   "source": [
    "# 1.11 上傳 guava 影像到專案\n",
    "print (\"Adding guava images...\")\n",
    "guava_tag = trainer.create_tag(project.id, \"guava\")\n",
    "def upload(filepath):\n",
    "    with open(filepath, mode=\"rb\") as img_data:\n",
    "        trainer.create_images_from_data(project.id, img_data.read(), [ guava_tag.id ])\n",
    "    \n",
    "def upload_parallel(filepaths, threads=5):\n",
    "    pool = ThreadPool(threads)\n",
    "    results = pool.map(upload, filepaths)\n",
    "    pool.close()\n",
    "    pool.join()\n",
    "valid_dir = \"./Fruit/guava/\"\n",
    "valid_paths = [valid_dir + os.fsdecode(image) for image in os.listdir(os.fsencode(valid_dir))]\n",
    "img_paths = valid_paths\n",
    "upload_parallel(img_paths)\n",
    "print (\"Adding guava images Finish ...\")"
   ]
  },
  {
   "cell_type": "code",
   "execution_count": null,
   "metadata": {},
   "outputs": [],
   "source": [
    "# 1.12 開始訓練\n",
    "import time\n",
    "print (\"Training...\")\n",
    "iteration = trainer.train_project(project.id)\n",
    "while (iteration.status != \"Completed\"):\n",
    "    iteration = trainer.get_iteration(project.id, iteration.id)\n",
    "    print (\"Training status: \" + iteration.status)\n",
    "    time.sleep(1)"
   ]
  },
  {
   "cell_type": "code",
   "execution_count": null,
   "metadata": {},
   "outputs": [],
   "source": [
    "# 1.13 建立 cognitive services - Prediction\n",
    "predictionName = \"CustomVision-Prediction\"\n",
    "prediction_resource_id = !az cognitiveservices account create --name $predictionName --resource-group $resource_group --kind CustomVision.Prediction --sku S0 --location $resource_group_location --yes | grep -o '\"id\": \"[^\"]*' | grep -o '[^\"]*$' "
   ]
  },
  {
   "cell_type": "code",
   "execution_count": null,
   "metadata": {},
   "outputs": [],
   "source": [
    "# 1.14 Publish Model\n",
    "publish_iteration_name = \"classifyModel\"\n",
    "trainer.publish_iteration(project.id, iteration.id, publish_iteration_name, prediction_resource_id[0])\n",
    "print (\"Publish Model Done!\")  "
   ]
  },
  {
   "cell_type": "code",
   "execution_count": null,
   "metadata": {},
   "outputs": [],
   "source": [
    "# 1.15 取得 Prediction key\n",
    "prediction_key = !az cognitiveservices account keys list --name $predictionName --resource-group $resource_group | grep -o '\"key1\": \"[^\"]*' | grep -o '[^\"]*$'\n",
    "!echo $prediction_key "
   ]
  },
  {
   "cell_type": "code",
   "execution_count": null,
   "metadata": {},
   "outputs": [],
   "source": [
    "# 1.16 取得 prediction Endpoint\n",
    "predictionEndpoint = !az cognitiveservices account show --name $predictionName --resource-group $resource_group | grep -o '\"endpoint\": \"[^\"]*' | grep -o '[^\"]*$'\n",
    "!echo $predictionEndpoint"
   ]
  },
  {
   "cell_type": "code",
   "execution_count": null,
   "metadata": {},
   "outputs": [],
   "source": [
    "# 1.17 測試\n",
    "import requests\n",
    "import json\n",
    "\n",
    "from os import walk\n",
    "from os.path import join\n",
    "\n",
    "predictor = CustomVisionPredictionClient(prediction_key, endpoint=predictionEndpoint)\n",
    "\n",
    "canPath = './Fruit/test'\n",
    "\n",
    "for root, dirs, files in walk(scanPath):\n",
    "  for f in files:\n",
    "    fullpath = join(root, f)\n",
    "    fileName = os.path.basename(fullpath)\n",
    "    print(\"fullpath: %s, fileName: %s\" %(fullpath, fileName))\n",
    "    url=\"https://westus2.api.cognitive.microsoft.com/customvision/v3.0/Prediction/\" + project.id + \"/classify/iterations/classifyModel/image\"\n",
    "    headers={\n",
    "        'content-type':'application/octet-stream',\n",
    "        'Prediction-Key': prediction_key[0]\n",
    "    }\n",
    "    r =requests.post(url,data=open(fullpath,\"rb\"),headers=headers)\n",
    "    results = r.json()['predictions']\n",
    "    for prediction in results:\n",
    "        print( prediction['tagName'] + \": {0:.2f}%\".format(prediction['probability'] * 100))\n",
    "    print(\"\\n\")"
   ]
  },
  {
   "cell_type": "code",
   "execution_count": null,
   "metadata": {},
   "outputs": [],
   "source": [
    "# 1.18 建立訓練完成的 Model 下載連結\n",
    "import requests\n",
    "import json\n",
    "\n",
    "url = endpoint[0] + \"customvision/v3.0/training/projects/\" + project.id + \"/iterations/\" + iteration.id + \"/export?platform=DockerFile&flavor=Linux\"\n",
    "payload = {}\n",
    "\n",
    "headers = {\n",
    "    \"Training-Key\": training_key[0]\n",
    "}\n",
    "r = requests.post(url, data=json.dumps(payload), headers=headers)\n",
    "print(r.json())"
   ]
  },
  {
   "cell_type": "code",
   "execution_count": null,
   "metadata": {},
   "outputs": [],
   "source": [
    "# 1.19 取得訓練完成的 Model 下載連結\n",
    "url = endpoint[0] + \"/customvision/v3.0/training/projects/\" + project.id + \"/iterations/\" + iteration.id + \"/export\"\n",
    "headers = {\n",
    "    \"Training-Key\": training_key[0]\n",
    "}\n",
    "r = requests.get(url, headers=headers)\n",
    "downloadUri = r.json()[0]['downloadUri']\n",
    "print(downloadUri)"
   ]
  },
  {
   "cell_type": "code",
   "execution_count": null,
   "metadata": {},
   "outputs": [],
   "source": [
    "# 1.20 安裝 wget 套件\n",
    "!pip install wget"
   ]
  },
  {
   "cell_type": "code",
   "execution_count": null,
   "metadata": {},
   "outputs": [],
   "source": [
    "# 1.21 下載訓練完成的 Model\n",
    "import wget\n",
    "modelZipName = \"cognitive-services-linux-dockerfile\"\n",
    "wget.download(downloadUri, \"./\" + modelZipName)"
   ]
  },
  {
   "cell_type": "code",
   "execution_count": null,
   "metadata": {},
   "outputs": [],
   "source": [
    "# 1.22 安裝 unzip 套件\n",
    "!sudo apt-get install unzip"
   ]
  },
  {
   "cell_type": "code",
   "execution_count": null,
   "metadata": {},
   "outputs": [],
   "source": [
    "# 1.23 解壓縮 Model \n",
    "unzipName = modelZipName + \"-model\"\n",
    "!unzip $modelZipName -d $unzipName"
   ]
  },
  {
   "cell_type": "code",
   "execution_count": null,
   "metadata": {},
   "outputs": [],
   "source": [
    "# 1.24 刪除 cognitive services\n",
    "!az cognitiveservices account delete --name $trainingName --resource-group $resource_group \n",
    "!az cognitiveservices account delete --name $predictionName --resource-group $resource_group "
   ]
  },
  {
   "cell_type": "code",
   "execution_count": null,
   "metadata": {},
   "outputs": [],
   "source": []
  }
 ],
 "metadata": {
  "kernelspec": {
   "display_name": "Python 3",
   "language": "python",
   "name": "python3"
  },
  "language_info": {
   "codemirror_mode": {
    "name": "ipython",
    "version": 3
   },
   "file_extension": ".py",
   "mimetype": "text/x-python",
   "name": "python",
   "nbconvert_exporter": "python",
   "pygments_lexer": "ipython3",
   "version": "3.6.8"
  }
 },
 "nbformat": 4,
 "nbformat_minor": 4
}
